{
 "cells": [
  {
   "cell_type": "markdown",
   "id": "9bf91cf6",
   "metadata": {},
   "source": [
    "# San Francisco Fire Department Data Analysis\n",
    "This is an exploratory data analysis, ETL, and common data operations on the San Francisco Fire Department public data set."
   ]
  },
  {
   "cell_type": "markdown",
   "id": "fb90ada1",
   "metadata": {},
   "source": [
    "## Data extraction"
   ]
  },
  {
   "cell_type": "code",
   "execution_count": 2,
   "id": "7a4d6c06",
   "metadata": {},
   "outputs": [],
   "source": [
    "import org.apache.spark.sql.types._\n",
    "import org.apache.spark.sql._\n",
    "import org.apache.spark.sql.functions._"
   ]
  },
  {
   "cell_type": "code",
   "execution_count": 3,
   "id": "92c2e2ff",
   "metadata": {},
   "outputs": [
    {
     "data": {
      "text/plain": [
       "fireSchema = StructType(StructField(CallNumber,IntegerType,true), StructField(UnitID,StringType,true), StructField(IncidentNumber,IntegerType,true), StructField(CallType,StringType,true), StructField(Location,StringType,true), StructField(CallDate,StringType,true), StructField(WatchDate,StringType,true), StructField(CallFinalDisposition,StringType,true), StructField(AvailableDtTm,StringType,true), StructField(Address,StringType,true), StructField(City,StringType,true), StructField(Zipcode,StringType,true), StructField(Battalion,StringType,true), StructField(StationArea,StringType,true), StructField(Box,StringType,true), StructField(OriginalPriority,StringType,true), StructField(Priority,StringType,true), StructField(FinalPriority,IntegerType,true),...\n"
      ]
     },
     "metadata": {},
     "output_type": "display_data"
    },
    {
     "data": {
      "text/plain": [
       "StructType(StructField(CallNumber,IntegerType,true), StructField(UnitID,StringType,true), StructField(IncidentNumber,IntegerType,true), StructField(CallType,StringType,true), StructField(Location,StringType,true), StructField(CallDate,StringType,true), StructField(WatchDate,StringType,true), StructField(CallFinalDisposition,StringType,true), StructField(AvailableDtTm,StringType,true), StructField(Address,StringType,true), StructField(City,StringType,true), StructField(Zipcode,StringType,true), StructField(Battalion,StringType,true), StructField(StationArea,StringType,true), StructField(Box,StringType,true), StructField(OriginalPriority,StringType,true), StructField(Priority,StringType,true), StructField(FinalPriority,IntegerType,true),..."
      ]
     },
     "execution_count": 3,
     "metadata": {},
     "output_type": "execute_result"
    }
   ],
   "source": [
    "  val fireSchema: StructType = StructType(Array(\n",
    "    StructField(\"CallNumber\", IntegerType, nullable = true),\n",
    "    StructField(\"UnitID\", StringType, nullable = true),\n",
    "    StructField(\"IncidentNumber\", IntegerType, nullable = true),\n",
    "    StructField(\"CallType\", StringType, nullable = true),\n",
    "    StructField(\"Location\", StringType, nullable = true),\n",
    "    StructField(\"CallDate\", StringType, nullable = true),\n",
    "    StructField(\"WatchDate\", StringType, nullable = true),\n",
    "    StructField(\"CallFinalDisposition\", StringType, nullable = true),\n",
    "    StructField(\"AvailableDtTm\", StringType, nullable = true),\n",
    "    StructField(\"Address\", StringType, nullable = true),\n",
    "    StructField(\"City\", StringType, nullable = true),\n",
    "    StructField(\"Zipcode\", StringType, nullable = true),\n",
    "    StructField(\"Battalion\", StringType, nullable = true),\n",
    "    StructField(\"StationArea\", StringType, nullable = true),\n",
    "    StructField(\"Box\", StringType, nullable = true),\n",
    "    StructField(\"OriginalPriority\", StringType, nullable = true),\n",
    "    StructField(\"Priority\", StringType, nullable = true),\n",
    "    StructField(\"FinalPriority\", IntegerType, nullable = true),\n",
    "    StructField(\"ALSUnit\", BooleanType, nullable = true),\n",
    "    StructField(\"CallTypeGroup\", StringType, nullable = true),\n",
    "    StructField(\"NumAlarms\", IntegerType, nullable = true),\n",
    "    StructField(\"UnitType\", StringType, nullable = true),\n",
    "    StructField(\"UnitSequenceInCallDispatch\", IntegerType, nullable = true),\n",
    "    StructField(\"FirePreventionDistrict\", StringType, nullable = true),\n",
    "    StructField(\"SupervisorDistrict\", StringType, nullable = true),\n",
    "    StructField(\"Neighborhood\", StringType, nullable = true),\n",
    "    StructField(\"RowID\", StringType, nullable = true),\n",
    "    StructField(\"Delay\", FloatType, nullable = true)))"
   ]
  },
  {
   "cell_type": "code",
   "execution_count": 4,
   "id": "81fc359f",
   "metadata": {},
   "outputs": [
    {
     "data": {
      "text/plain": [
       "fireDF = [CallNumber: int, UnitID: string ... 26 more fields]\n"
      ]
     },
     "metadata": {},
     "output_type": "display_data"
    },
    {
     "data": {
      "text/plain": [
       "[CallNumber: int, UnitID: string ... 26 more fields]"
      ]
     },
     "execution_count": 4,
     "metadata": {},
     "output_type": "execute_result"
    }
   ],
   "source": [
    "val fireDF: DataFrame = spark.read.schema(fireSchema).option(\"header\", \"true\").csv(\"/data/sf-fire/sf-fire-calls.csv\")"
   ]
  },
  {
   "cell_type": "markdown",
   "id": "832b20ef",
   "metadata": {},
   "source": [
    "## Data Transformation"
   ]
  },
  {
   "cell_type": "markdown",
   "id": "04d92a57",
   "metadata": {},
   "source": [
    "### What were all the different types of fire calls in 2018?"
   ]
  },
  {
   "cell_type": "code",
   "execution_count": 5,
   "id": "92241ecb",
   "metadata": {},
   "outputs": [
    {
     "name": "stdout",
     "output_type": "stream",
     "text": [
      "+-------------------------------+\n",
      "|CallType                       |\n",
      "+-------------------------------+\n",
      "|Elevator / Escalator Rescue    |\n",
      "|Alarms                         |\n",
      "|Odor (Strange / Unknown)       |\n",
      "|Citizen Assist / Service Call  |\n",
      "|HazMat                         |\n",
      "|Vehicle Fire                   |\n",
      "|Other                          |\n",
      "|Outside Fire                   |\n",
      "|Traffic Collision              |\n",
      "|Assist Police                  |\n",
      "|Gas Leak (Natural and LP Gases)|\n",
      "|Water Rescue                   |\n",
      "|Electrical Hazard              |\n",
      "|Structure Fire                 |\n",
      "|Medical Incident               |\n",
      "|Fuel Spill                     |\n",
      "|Smoke Investigation (Outside)  |\n",
      "|Train / Rail Incident          |\n",
      "|Explosion                      |\n",
      "|Suspicious Package             |\n",
      "+-------------------------------+\n",
      "\n"
     ]
    },
    {
     "data": {
      "text/plain": [
       "fireDF2018 = [CallNumber: int, UnitID: string ... 26 more fields]\n",
       "callTypesIn2018 = [CallType: string]\n"
      ]
     },
     "metadata": {},
     "output_type": "display_data"
    },
    {
     "data": {
      "text/plain": [
       "[CallType: string]"
      ]
     },
     "execution_count": 5,
     "metadata": {},
     "output_type": "execute_result"
    }
   ],
   "source": [
    "val fireDF2018 = fireDF\n",
    ".filter(\n",
    "  col(\"CallType\").isNotNull &&\n",
    "    year(to_timestamp(col(\"CallDate\"), \"MM/dd/yyyy\")) === \"2018\"\n",
    ").cache()\n",
    "\n",
    "val callTypesIn2018 = \n",
    "fireDF2018\n",
    ".select(\"CallType\")\n",
    ".distinct()\n",
    "\n",
    "callTypesIn2018.show(truncate = false)"
   ]
  },
  {
   "cell_type": "markdown",
   "id": "bd6bbaaa",
   "metadata": {},
   "source": [
    "### What months within the year 2018 saw the highest number of fire calls?"
   ]
  },
  {
   "cell_type": "code",
   "execution_count": 9,
   "id": "a3b8ede7",
   "metadata": {},
   "outputs": [
    {
     "name": "stdout",
     "output_type": "stream",
     "text": [
      "+-----+-------------+\n",
      "|Month|NumberOfCalls|\n",
      "+-----+-------------+\n",
      "|10   |1068         |\n",
      "|5    |1049         |\n",
      "|3    |1029         |\n",
      "|8    |1021         |\n",
      "|1    |986          |\n",
      "|6    |976          |\n",
      "|7    |972          |\n",
      "|9    |949          |\n",
      "|4    |948          |\n",
      "|2    |920          |\n",
      "|11   |192          |\n",
      "+-----+-------------+\n",
      "\n"
     ]
    },
    {
     "data": {
      "text/plain": [
       "monthsWithTheHighestCalls = [Month: int, NumberOfCalls: bigint]\n"
      ]
     },
     "metadata": {},
     "output_type": "display_data"
    },
    {
     "data": {
      "text/plain": [
       "[Month: int, NumberOfCalls: bigint]"
      ]
     },
     "execution_count": 9,
     "metadata": {},
     "output_type": "execute_result"
    }
   ],
   "source": [
    "val monthsWithTheHighestCalls =\n",
    "fireDF2018\n",
    "  .withColumn(\"Month\", month(to_timestamp(col(\"CallDate\"), \"MM/dd/yyyy\")))\n",
    "  .groupBy(\"Month\")\n",
    "  .agg(count(col(\"CallType\")).as(\"NumberOfCalls\"))\n",
    "  .orderBy(desc(\"NumberOfCalls\"))\n",
    "\n",
    "monthsWithTheHighestCalls.show(truncate = false)"
   ]
  },
  {
   "cell_type": "markdown",
   "id": "b84cfe7d",
   "metadata": {},
   "source": [
    "### Which neighborhood in San Francisco generated the most fire calls in 2018?"
   ]
  },
  {
   "cell_type": "code",
   "execution_count": 13,
   "id": "1811b6da",
   "metadata": {},
   "outputs": [
    {
     "name": "stdout",
     "output_type": "stream",
     "text": [
      "[(37.77762423892872, -122.39998111124002),58]\n"
     ]
    },
    {
     "data": {
      "text/plain": [
       "neighborhoodsWithTheMostFireCalls = [Neighborhood: string, NumberOfCalls: bigint]\n"
      ]
     },
     "metadata": {},
     "output_type": "display_data"
    },
    {
     "data": {
      "text/plain": [
       "[Neighborhood: string, NumberOfCalls: bigint]"
      ]
     },
     "execution_count": 13,
     "metadata": {},
     "output_type": "execute_result"
    }
   ],
   "source": [
    "val neighborhoodsWithTheMostFireCalls =\n",
    "fireDF2018\n",
    "  .filter(col(\"Neighborhood\").isNotNull)\n",
    "  .groupBy(\"Neighborhood\")\n",
    "  .agg(count(col(\"CallType\")).as(\"NumberOfCalls\"))\n",
    "  .orderBy(desc(\"NumberOfCalls\"))\n",
    "\n",
    "neighborhoodsWithTheMostFireCalls.take(1).foreach(println)"
   ]
  },
  {
   "cell_type": "markdown",
   "id": "1ebfffe2",
   "metadata": {},
   "source": [
    "### Which neighborhoods had the worst response times to fire calls in 2018?"
   ]
  },
  {
   "cell_type": "code",
   "execution_count": 14,
   "id": "83911cf2",
   "metadata": {},
   "outputs": [
    {
     "name": "stdout",
     "output_type": "stream",
     "text": [
      "+-----------------------------------------+----------------------+\n",
      "|Neighborhood                             |MaxResponseDelayInMins|\n",
      "+-----------------------------------------+----------------------+\n",
      "|(37.80022303736301, -122.41050959530114) |491.26666             |\n",
      "|(37.79267911710725, -122.39685349996866) |406.63333             |\n",
      "|(37.783834437414136, -122.4129305220591) |340.48334             |\n",
      "|(37.76558354129728, -122.45209163136114) |175.86667             |\n",
      "|(37.729934693604356, -122.39774442710336)|155.8                 |\n",
      "|(37.7980449492818, -122.3963670843851)   |135.51666             |\n",
      "|(37.789793139575416, -122.4264272862002) |129.01666             |\n",
      "|(37.75762574276467, -122.39262295923919) |109.8                 |\n",
      "|(37.75946872471556, -122.46391578590715) |106.13333             |\n",
      "|(37.77918239332259, -122.40979393906078) |94.71667              |\n",
      "|(37.725881170284005, -122.39245744802503)|92.816666             |\n",
      "|(37.78005179422856, -122.46428116686292) |90.433334             |\n",
      "|(37.70881490532333, -122.42362409696946) |83.76667              |\n",
      "|(37.779167421896304, -122.40634642563238)|76.9                  |\n",
      "|(37.786117211837905, -122.4198542456919) |76.566666             |\n",
      "|(37.760976609084544, -122.43445735395501)|74.13333              |\n",
      "|(37.78208745297212, -122.43085560892594) |67.916664             |\n",
      "|(37.786777482512, -122.42075997057373)   |67.45                 |\n",
      "|(37.77604634712713, -122.41128875661012) |64.683334             |\n",
      "|(37.74726234825246, -122.39600861462664) |63.15                 |\n",
      "+-----------------------------------------+----------------------+\n",
      "only showing top 20 rows\n",
      "\n"
     ]
    },
    {
     "data": {
      "text/plain": [
       "worstResponseTimesByNeighborhoods = [Neighborhood: string, MaxResponseDelayInMins: float]\n"
      ]
     },
     "metadata": {},
     "output_type": "display_data"
    },
    {
     "data": {
      "text/plain": [
       "[Neighborhood: string, MaxResponseDelayInMins: float]"
      ]
     },
     "execution_count": 14,
     "metadata": {},
     "output_type": "execute_result"
    }
   ],
   "source": [
    "val worstResponseTimesByNeighborhoods =\n",
    "fireDF2018\n",
    "  .filter(col(\"Neighborhood\").isNotNull)\n",
    "  .groupBy(\"Neighborhood\")\n",
    "  .agg(max(\"Delay\").alias(\"MaxResponseDelayInMins\"))\n",
    "  .orderBy(desc(\"MaxResponseDelayInMins\"))\n",
    "\n",
    "worstResponseTimesByNeighborhoods.show(false)"
   ]
  },
  {
   "cell_type": "markdown",
   "id": "3a6fbb71",
   "metadata": {},
   "source": [
    "### Which week in the year in 2018 had the most fire calls?"
   ]
  },
  {
   "cell_type": "code",
   "execution_count": 15,
   "id": "6b920309",
   "metadata": {},
   "outputs": [
    {
     "name": "stdout",
     "output_type": "stream",
     "text": [
      "+-------------+-----+\n",
      "|WeekOfTheYear|count|\n",
      "+-------------+-----+\n",
      "|22           |258  |\n",
      "|43           |258  |\n",
      "|40           |252  |\n",
      "|25           |250  |\n",
      "|44           |242  |\n",
      "|32           |241  |\n",
      "|13           |241  |\n",
      "|31           |239  |\n",
      "|11           |239  |\n",
      "|18           |239  |\n",
      "+-------------+-----+\n",
      "only showing top 10 rows\n",
      "\n"
     ]
    },
    {
     "data": {
      "text/plain": [
       "weekWithTheMostFireCalls = [WeekOfTheYear: int, count: bigint]\n"
      ]
     },
     "metadata": {},
     "output_type": "display_data"
    },
    {
     "data": {
      "text/plain": [
       "[WeekOfTheYear: int, count: bigint]"
      ]
     },
     "execution_count": 15,
     "metadata": {},
     "output_type": "execute_result"
    }
   ],
   "source": [
    "val weekWithTheMostFireCalls =\n",
    "fireDF2018\n",
    "  .withColumn(\"IncidentDate\", to_timestamp(col(\"CallDate\"), \"MM/dd/yyyy\"))\n",
    "  .groupBy(weekofyear(col(\"IncidentDate\")).as(\"WeekOfTheYear\"))\n",
    "  .count()\n",
    "  .orderBy(desc(\"count\"))\n",
    "\n",
    "weekWithTheMostFireCalls.show(10,truncate = false)"
   ]
  },
  {
   "cell_type": "markdown",
   "id": "2b6d2cc5",
   "metadata": {},
   "source": [
    "### Is there a correlation between neighborhood, zip code, and number of fire calls?"
   ]
  },
  {
   "cell_type": "code",
   "execution_count": 22,
   "id": "6bb85e75",
   "metadata": {},
   "outputs": [
    {
     "data": {
      "text/plain": [
       "correlationBetweenNeighbourhoodsAndFireCalls = [corr(Neighborhood, count): double]\n"
      ]
     },
     "metadata": {},
     "output_type": "display_data"
    },
    {
     "name": "stdout",
     "output_type": "stream",
     "text": [
      "+-------------------------+\n",
      "|corr(Neighborhood, count)|\n",
      "+-------------------------+\n",
      "|                     null|\n",
      "+-------------------------+\n",
      "\n"
     ]
    },
    {
     "data": {
      "text/plain": [
       "[corr(Neighborhood, count): double]"
      ]
     },
     "execution_count": 22,
     "metadata": {},
     "output_type": "execute_result"
    }
   ],
   "source": [
    "val correlationBetweenNeighbourhoodsAndFireCalls = \n",
    "fireDF2018\n",
    "  .groupBy(\"Neighborhood\", \"Zipcode\")\n",
    "  .count()\n",
    "  .select(corr(\"Neighborhood\", \"count\"))\n",
    "\n",
    "correlationBetweenNeighbourhoodsAndFireCalls.show()"
   ]
  },
  {
   "cell_type": "markdown",
   "id": "833d15a2",
   "metadata": {},
   "source": [
    "## Load Data"
   ]
  },
  {
   "cell_type": "markdown",
   "id": "7f5ec894",
   "metadata": {},
   "source": [
    "### How can we use Parquet files or SQL tables to store this data and read it back?"
   ]
  },
  {
   "cell_type": "code",
   "execution_count": 8,
   "id": "f543be98",
   "metadata": {},
   "outputs": [
    {
     "data": {
      "text/plain": [
       "lastException = null\n",
       "parquetData = /data/fire-calls-data\n"
      ]
     },
     "metadata": {},
     "output_type": "display_data"
    },
    {
     "data": {
      "text/plain": [
       "/data/fire-calls-data"
      ]
     },
     "execution_count": 8,
     "metadata": {},
     "output_type": "execute_result"
    }
   ],
   "source": [
    "val parquetData = \"/data/fire-calls-data\"\n",
    "\n",
    "fireDF2018.write.format(\"parquet\").save(parquetData)"
   ]
  },
  {
   "cell_type": "code",
   "execution_count": 10,
   "id": "b80cf0df",
   "metadata": {},
   "outputs": [
    {
     "name": "stdout",
     "output_type": "stream",
     "text": [
      "+----------+------+--------------+-----------------+----------+----------+----------------+--------------------+--------------------+-------------+-----+-------+---------+-----------+---+----------------+--------+-------------+-------+-------------+---------+--------+--------------------------+----------------------+------------------+--------------------+--------------+----------+\n",
      "|CallNumber|UnitID|IncidentNumber|         CallType|  Location|  CallDate|       WatchDate|CallFinalDisposition|       AvailableDtTm|      Address| City|Zipcode|Battalion|StationArea|Box|OriginalPriority|Priority|FinalPriority|ALSUnit|CallTypeGroup|NumAlarms|UnitType|UnitSequenceInCallDispatch|FirePreventionDistrict|SupervisorDistrict|        Neighborhood|         RowID|     Delay|\n",
      "+----------+------+--------------+-----------------+----------+----------+----------------+--------------------+--------------------+-------------+-----+-------+---------+-----------+---+----------------+--------+-------------+-------+-------------+---------+--------+--------------------------+----------------------+------------------+--------------------+--------------+----------+\n",
      "| 181403117|   E11|      18059387|           Alarms|05/20/2018|05/20/2018|            Fire|05/20/2018 06:50:...|0 Block of FAIR O...|San Francisco|94110|    B06|       11|       5457|  3|               3|       3|         null|   null|            1|     null|       1|                         6|                     8|           Mission|(37.7559079571268...| 181403117-E11| 3.5666666|\n",
      "| 181403262|   RC4|      18059407|Traffic Collision|05/20/2018|05/20/2018|Code 2 Transport|05/20/2018 07:50:...| NAPLES ST/GENEVA AV|San Francisco|94112|    B09|       43|       6136|  A|               3|       3|         null|   null|            1|     null|       1|                         9|                    11|         Excelsior|(37.7142094836778...| 181403262-RC4|       1.4|\n",
      "| 181403366|    81|      18059416| Medical Incident|05/20/2018|05/20/2018|       Cancelled|05/20/2018 08:15:...| 500 Block of 5TH ST|San Francisco|94107|    B03|       08|       2242|  B|               2|       2|         null|   null|            1|     null|       1|                         3|                     6|   South of Market|(37.7776242389287...|  181403366-81|  6.633333|\n",
      "| 181403372|   E36|      18059418| Medical Incident|05/20/2018|05/20/2018|           Other|05/20/2018 08:06:...|600 Block of HAYE...|San Francisco|94102|    B02|       36|       3413|  2|               2|       2|         null|   null|            1|     null|       3|                         2|                     5|      Hayes Valley|(37.7763047597518...| 181403372-E36|     11.55|\n",
      "| 181403377|   B10|      18059419|   Structure Fire|05/20/2018|05/20/2018|            Fire|05/20/2018 08:38:...|800 Block of POTR...|San Francisco|94110|    B10|       07|       2553|  3|               3|       3|         null|   null|            1|     null|       3|                        10|                    10|      Potrero Hill|(37.7585719666445...| 181403377-B10| 3.8333333|\n",
      "| 181403431|    60|      18059423| Medical Incident|05/20/2018|05/20/2018|Code 2 Transport|05/20/2018 10:07:...|WESTGATE DR/OCEAN AV|San Francisco|94127|    B09|       15|       8454|  2|               2|       2|         null|   null|            1|     null|       4|                         9|                     7|West of Twin Peaks|(37.7272377667563...|  181403431-60| 2.9166667|\n",
      "| 181403437|    75|      18059424| Medical Incident|05/20/2018|05/20/2018|Code 2 Transport|05/20/2018 09:04:...|POST ST/LEAVENWOR...|San Francisco|94109|    B04|       03|       1543|  A|               2|       2|         null|   null|            1|     null|       2|                         4|                     6|        Tenderloin|(37.7874538432357...|  181403437-75|0.31666666|\n",
      "| 181403494|    63|      18059429| Medical Incident|05/20/2018|05/20/2018|Code 2 Transport|05/20/2018 10:27:...|700 Block of PRAG...|San Francisco|94112|    B09|       43|       6226|  2|               2|       2|         null|   null|            1|     null|       2|                         9|                    11|         Excelsior|(37.7112085098161...|  181403494-63|  4.866667|\n",
      "| 181403516|  QRV1|      18059435| Medical Incident|05/20/2018|05/20/2018|Code 2 Transport|05/20/2018 09:28:...|1200 Block of SUT...|San Francisco|94109|    B04|       03|       3121|  3|               3|       3|         null|   null|            1|     null|       2|                         4|                     3|          Nob Hill|(37.7875981617510...|181403516-QRV1| 2.8166666|\n",
      "| 181403641|    55|      18059445| Medical Incident|05/20/2018|05/20/2018|Code 3 Transport|05/20/2018 10:45:...|1200 Block of 18T...|San Francisco|94107|    B03|       37|       2463|  3|               3|       3|         null|   null|            1|     null|       2|                         3|                    10|      Potrero Hill|(37.7626123033466...|  181403641-55| 1.4333333|\n",
      "+----------+------+--------------+-----------------+----------+----------+----------------+--------------------+--------------------+-------------+-----+-------+---------+-----------+---+----------------+--------+-------------+-------+-------------+---------+--------+--------------------------+----------------------+------------------+--------------------+--------------+----------+\n",
      "only showing top 10 rows\n",
      "\n"
     ]
    },
    {
     "data": {
      "text/plain": [
       "readFromParquet = [CallNumber: int, UnitID: string ... 26 more fields]\n"
      ]
     },
     "metadata": {},
     "output_type": "display_data"
    },
    {
     "data": {
      "text/plain": [
       "[CallNumber: int, UnitID: string ... 26 more fields]"
      ]
     },
     "execution_count": 10,
     "metadata": {},
     "output_type": "execute_result"
    }
   ],
   "source": [
    "val readFromParquet = spark.read.parquet(parquetData)\n",
    "\n",
    "readFromParquet.show(10)"
   ]
  },
  {
   "cell_type": "code",
   "execution_count": null,
   "id": "8b085659",
   "metadata": {},
   "outputs": [],
   "source": []
  }
 ],
 "metadata": {
  "kernelspec": {
   "display_name": "Spark",
   "language": "",
   "name": "jupyter-spark"
  },
  "language_info": {
   "codemirror_mode": "text/x-scala",
   "file_extension": ".scala",
   "mimetype": "text/x-scala",
   "name": "scala",
   "pygments_lexer": "scala",
   "version": "2.12.15"
  }
 },
 "nbformat": 4,
 "nbformat_minor": 5
}
